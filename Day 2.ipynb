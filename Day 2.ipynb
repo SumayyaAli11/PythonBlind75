{
 "cells": [
  {
   "cell_type": "markdown",
   "id": "97312f37-bb46-4581-9ab5-67a557b179b2",
   "metadata": {},
   "source": [
    "Series: Blind 75 (2)\n",
    "[Best Time to Buy and Sell Stock – Leetcode 121]\n",
    "Suggested time: 4:30 to 5:30\n",
    "Finishing point: 10pm\n",
    "_________\n",
    "Before solving today’s main problem, try these 7 prerequisite questions to build strong intuition:\n",
    "\n",
    "Find the minimum element in an array.\n",
    "→ Understand how to track the lowest value while iterating.\n",
    "\n",
    "Find the maximum element in an array.\n",
    "→ Practice tracking the maximum value and its position.\n",
    "\n",
    "Track both min and max in a single pass through the array.\n",
    "→ Build the habit of comparing and updating two variables during one loop.\n",
    "\n",
    "Find maximum difference between two elements where smaller comes before larger.\n",
    "→ Directly builds the intuition for this stock problem.\n",
    "\n",
    "Sliding window basics – max sum subarray of size k.\n",
    "→ Learn to update results based on moving values across the array.\n",
    "\n",
    "Kadane’s Algorithm – Maximum Subarray (Leetcode 53).\n",
    "→ Helps understand dynamic tracking of profit gain patterns.\n",
    "\n",
    "Brute-force: Try all possible buy/sell pairs and find the max profit.\n",
    "→ Appreciate why an O(n²) solution is inefficient and motivates the O(n) one-pass strategy."
   ]
  },
  {
   "cell_type": "code",
   "execution_count": 3,
   "id": "54243e17-0ac9-4f18-929e-a931e7f795c2",
   "metadata": {},
   "outputs": [
    {
     "name": "stdout",
     "output_type": "stream",
     "text": [
      "1\n"
     ]
    }
   ],
   "source": [
    "arr=[7,1,5,3,6,4]\n",
    "print(min(arr))"
   ]
  },
  {
   "cell_type": "code",
   "execution_count": 5,
   "id": "8ac8079a-2baa-4f8f-942c-e181b1903a88",
   "metadata": {},
   "outputs": [
    {
     "name": "stdout",
     "output_type": "stream",
     "text": [
      "1\n"
     ]
    }
   ],
   "source": [
    "min=arr[0]\n",
    "for i in range(len(arr)):\n",
    "    if arr[i]<min:\n",
    "        min=arr[i]\n",
    "print(min)"
   ]
  },
  {
   "cell_type": "code",
   "execution_count": 7,
   "id": "26b0b16f-b291-4d83-a698-0973a0d13377",
   "metadata": {},
   "outputs": [
    {
     "name": "stdout",
     "output_type": "stream",
     "text": [
      "max:7\n",
      "index:0\n"
     ]
    }
   ],
   "source": [
    "max=arr[0]\n",
    "max_index=0\n",
    "for i in range(len(arr)):\n",
    "    if arr[i]>max:\n",
    "        max=arr[i]\n",
    "        max_index=i\n",
    "print(f\"max:{max}\")\n",
    "print(f\"index:{max_index}\")"
   ]
  },
  {
   "cell_type": "code",
   "execution_count": 9,
   "id": "b1b017be-b577-4611-a1ca-48d7ded5edb5",
   "metadata": {},
   "outputs": [
    {
     "name": "stdout",
     "output_type": "stream",
     "text": [
      "min:1\n",
      "max:7\n"
     ]
    }
   ],
   "source": [
    "min=arr[0]\n",
    "max=arr[0]\n",
    "for num in arr:\n",
    "    if num<min:\n",
    "        min=num\n",
    "    if num>max:\n",
    "        max=num\n",
    "print(f\"min:{min}\")\n",
    "print(f\"max:{max}\")"
   ]
  },
  {
   "cell_type": "code",
   "execution_count": 26,
   "id": "027c0270-cf5c-440c-9cc6-06f91c8e5ece",
   "metadata": {},
   "outputs": [
    {
     "name": "stdout",
     "output_type": "stream",
     "text": [
      "max:6\n",
      "min:1\n",
      "diff:5\n"
     ]
    }
   ],
   "source": [
    "arr=[7,1,5,3,6,4]\n",
    "min=arr[0]\n",
    "min_index=0\n",
    "for i in range(len(arr)):\n",
    "    if arr[i]<min:\n",
    "        min=arr[i]\n",
    "        min_index=i\n",
    "max=arr[min_index]\n",
    "for j in range(min_index,len(arr)):\n",
    "    if arr[j]>max:\n",
    "        max=arr[j]\n",
    "print(f\"max:{max}\")\n",
    "print(f\"min:{min}\")\n",
    "print(f\"diff:{max-min}\")\n",
    "\n",
    "    "
   ]
  },
  {
   "cell_type": "code",
   "execution_count": 32,
   "id": "9064561d-2563-4108-8189-da24b0dc92c8",
   "metadata": {},
   "outputs": [
    {
     "name": "stdout",
     "output_type": "stream",
     "text": [
      "5\n"
     ]
    }
   ],
   "source": [
    "arr=[7,1,5,3,6,4]\n",
    "min_val=arr[0]\n",
    "max_diff=0\n",
    "for price in arr[1:]:\n",
    "    if price<min_val:\n",
    "        min_val=price\n",
    "    if price-min_val>max_diff:\n",
    "        max_diff=price-min_val\n",
    "print(max_diff)\n",
    "        "
   ]
  },
  {
   "cell_type": "code",
   "execution_count": 36,
   "id": "59d63e77-8a7f-4362-96e6-d8fd458e675d",
   "metadata": {},
   "outputs": [
    {
     "name": "stdout",
     "output_type": "stream",
     "text": [
      "6\n"
     ]
    }
   ],
   "source": [
    "#Kadane's Algorithm\n",
    "nums=[-2,1,-3,4,-1,2,1,-5,4]\n",
    "maxSum = float('-inf')\n",
    "currentSum = 0\n",
    "        \n",
    "for num in nums:\n",
    "    currentSum += num\n",
    "            \n",
    "    if currentSum > maxSum:\n",
    "        maxSum = currentSum\n",
    "            \n",
    "    if currentSum < 0:\n",
    "        currentSum = 0\n",
    "\n",
    "print(maxSum)\n",
    "        \n"
   ]
  },
  {
   "cell_type": "code",
   "execution_count": null,
   "id": "321f02f4-ec42-44c2-848e-c5b5acc13e17",
   "metadata": {},
   "outputs": [],
   "source": []
  }
 ],
 "metadata": {
  "kernelspec": {
   "display_name": "Python 3 (ipykernel)",
   "language": "python",
   "name": "python3"
  },
  "language_info": {
   "codemirror_mode": {
    "name": "ipython",
    "version": 3
   },
   "file_extension": ".py",
   "mimetype": "text/x-python",
   "name": "python",
   "nbconvert_exporter": "python",
   "pygments_lexer": "ipython3",
   "version": "3.12.0"
  }
 },
 "nbformat": 4,
 "nbformat_minor": 5
}
