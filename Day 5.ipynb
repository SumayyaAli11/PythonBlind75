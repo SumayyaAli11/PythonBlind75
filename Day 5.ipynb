{
 "cells": [
  {
   "cell_type": "code",
   "execution_count": 1,
   "id": "1b11874f-98a3-4cc9-a073-93a031ca66a6",
   "metadata": {},
   "outputs": [
    {
     "name": "stdout",
     "output_type": "stream",
     "text": [
      "24\n"
     ]
    }
   ],
   "source": [
    "arr=[1,2,3,4]\n",
    "product=1\n",
    "for num in arr:\n",
    "    product=product*num\n",
    "print(product)"
   ]
  },
  {
   "cell_type": "code",
   "execution_count": 3,
   "id": "77882002-72d8-4284-af0e-0c48989fa7f8",
   "metadata": {},
   "outputs": [
    {
     "name": "stdout",
     "output_type": "stream",
     "text": [
      "10\n"
     ]
    }
   ],
   "source": [
    "sum=0\n",
    "for num in arr:\n",
    "    sum=sum+num\n",
    "print(sum)"
   ]
  },
  {
   "cell_type": "code",
   "execution_count": 5,
   "id": "714d42ab-d5b4-47ff-b29d-7ac36d5410b4",
   "metadata": {},
   "outputs": [
    {
     "name": "stdout",
     "output_type": "stream",
     "text": [
      "4\n"
     ]
    }
   ],
   "source": [
    "max=arr[0]\n",
    "for num in arr:\n",
    "    if num>max:\n",
    "        max=num\n",
    "print(max)"
   ]
  },
  {
   "cell_type": "code",
   "execution_count": 29,
   "id": "e726754a-6264-44b8-a4be-1a9cb42b3260",
   "metadata": {},
   "outputs": [
    {
     "name": "stdout",
     "output_type": "stream",
     "text": [
      "20\n"
     ]
    }
   ],
   "source": [
    "\"\"\"In the brute-force method, we use three nested loops to:\n",
    "\n",
    "First loop (i): Select the start index of the subarray.\n",
    "\n",
    "Second loop (j): Select the end index of the subarray.\n",
    "\n",
    "Third loop (k): Actually add up the elements in the subarray from index i to j.\"\"\"\n",
    "arr=[1,2,3]\n",
    "\n",
    "n=len(arr)\n",
    "total_sum=0\n",
    "for i  in range(n):\n",
    "    for j in range(i,n):\n",
    "        sum=0\n",
    "        for k in range(i,j+1):\n",
    "            sum=sum+arr[k]\n",
    "        total_sum+=sum\n",
    "    \n",
    "print(total_sum)"
   ]
  },
  {
   "cell_type": "code",
   "execution_count": 35,
   "id": "b1ffeddb-c34d-47ed-9fcf-38d249aba4dc",
   "metadata": {},
   "outputs": [
    {
     "name": "stdout",
     "output_type": "stream",
     "text": [
      "Subarray: [1] -> Sum = 1\n",
      "Subarray: [1, 2] -> Sum = 3\n",
      "Subarray: [1, 2, 3] -> Sum = 6\n",
      "Subarray: [2] -> Sum = 2\n",
      "Subarray: [2, 3] -> Sum = 5\n",
      "Subarray: [3] -> Sum = 3\n",
      "\n",
      "Total sum of all subarrays: 20\n",
      "maximum sum subarray:6\n"
     ]
    }
   ],
   "source": [
    "arr = [1, 2, 3]\n",
    "n = len(arr)\n",
    "total_sum = 0\n",
    "max=float('-inf')\n",
    "for i in range(n):\n",
    "    for j in range(i, n):\n",
    "        subarray_sum = 0\n",
    "        print(\"Subarray:\", arr[i:j+1], end=\" -> \")\n",
    "        for k in range(i, j + 1):\n",
    "            subarray_sum += arr[k]\n",
    "            if subarray_sum>max:\n",
    "                max=subarray_sum\n",
    "        print(\"Sum =\", subarray_sum)\n",
    "        total_sum += subarray_sum\n",
    "\n",
    "print(\"\\nTotal sum of all subarrays:\", total_sum)\n",
    "print(f\"maximum sum subarray:{max}\")\n",
    "\n"
   ]
  },
  {
   "cell_type": "code",
   "execution_count": 37,
   "id": "96a20644-76f9-43e0-9c55-e2ae03c2dd33",
   "metadata": {},
   "outputs": [
    {
     "name": "stdout",
     "output_type": "stream",
     "text": [
      "Subarray [1], Sum = 1\n",
      "Subarray [1, 2], Sum = 3\n",
      "Subarray [1, 2, 3], Sum = 6\n",
      "Subarray [2], Sum = 2\n",
      "Subarray [2, 3], Sum = 5\n",
      "Subarray [3], Sum = 3\n",
      "\n",
      "Total sum of all subarrays: 20\n"
     ]
    }
   ],
   "source": [
    "\"\"\"arr = [4, 5, 6, 7]\n",
    "Build prefix sum:\n",
    "\n",
    "prefix[0] = 4\n",
    "prefix[1] = 4 + 5 = 9\n",
    "prefix[2] = 9 + 6 = 15\n",
    "prefix[3] = 15 + 7 = 22\n",
    "\n",
    "So, prefix = [4, 9, 15, 22]\n",
    "Now let’s compute a few subarray sums using the formula:\n",
    "\n",
    "🔸 Case 1: subarray [5, 6] → indices i = 1, j = 2\n",
    "Apply:\n",
    "\n",
    "subarray_sum = prefix[2] - prefix[0]\n",
    "              = 15 - 4\n",
    "              = 11\n",
    "✅ That’s correct: 5 + 6 = 11\n",
    "\n",
    "🔸 Case 2: subarray [4, 5, 6] → indices i = 0, j = 2\n",
    "Since i == 0, use:\n",
    "\n",
    "subarray_sum = prefix[2] = 15\n",
    "✅ That’s correct: 4 + 5 + 6 = 15\n",
    "\n",
    "🔸 Case 3: subarray [6, 7] → indices i = 2, j = 3\n",
    "\n",
    "subarray_sum = prefix[3] - prefix[1]\n",
    "              = 22 - 9\n",
    "              = 13\n",
    "✅ That’s correct: 6 + 7 = 13\"\"\"\n",
    "arr = [1, 2, 3]\n",
    "n = len(arr)\n",
    "\n",
    "# Step 1: Build prefix sum array\n",
    "prefix = [0] * n\n",
    "prefix[0] = arr[0]\n",
    "for i in range(1, n):\n",
    "    prefix[i] = prefix[i-1] + arr[i]\n",
    "\n",
    "# Step 2: Use two loops to find all subarray sums\n",
    "total_sum = 0\n",
    "for i in range(n):         # start index\n",
    "    for j in range(i, n):  # end index\n",
    "        if i == 0:\n",
    "            sub_sum = prefix[j]\n",
    "        else:\n",
    "            sub_sum = prefix[j] - prefix[i - 1]\n",
    "        total_sum += sub_sum\n",
    "        print(f\"Subarray {arr[i:j+1]}, Sum = {sub_sum}\")\n",
    "\n",
    "print(\"\\nTotal sum of all subarrays:\", total_sum)\n"
   ]
  },
  {
   "cell_type": "code",
   "execution_count": null,
   "id": "7019174f-6265-4f40-8475-3be2efbf10f4",
   "metadata": {},
   "outputs": [],
   "source": [
    "\"\"\"Dynamic tracking means continuously updating a variable (like max, min, sum, etc.) as you traverse or process elements in a data structure\n",
    "— typically an array.\n",
    "\n",
    "You're \"tracking\" a value that changes over time as new data comes in.\n",
    "\n",
    "✅ Simple Example: Tracking the Maximum\n",
    "\n",
    "arr = [3, 7, 2, 9, 5]\n",
    "\n",
    "max_val = arr[0]  # Start with the first value\n",
    "\n",
    "for num in arr:\n",
    "    if num > max_val:\n",
    "        max_val = num  # Update max when a bigger number is found\"\"\""
   ]
  }
 ],
 "metadata": {
  "kernelspec": {
   "display_name": "Python 3 (ipykernel)",
   "language": "python",
   "name": "python3"
  },
  "language_info": {
   "codemirror_mode": {
    "name": "ipython",
    "version": 3
   },
   "file_extension": ".py",
   "mimetype": "text/x-python",
   "name": "python",
   "nbconvert_exporter": "python",
   "pygments_lexer": "ipython3",
   "version": "3.12.0"
  }
 },
 "nbformat": 4,
 "nbformat_minor": 5
}
