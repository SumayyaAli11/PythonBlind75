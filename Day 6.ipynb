{
 "cells": [
  {
   "cell_type": "code",
   "execution_count": 53,
   "id": "e905afe4-38f0-402b-9c8a-c86abed15639",
   "metadata": {},
   "outputs": [],
   "source": [
    "def is_repeating(s):\n",
    "    n=len(s)\n",
    "    for i in range(1,n):\n",
    "        pattern=s[:i]\n",
    "        if n%i==0 and pattern*(n//i)==s:\n",
    "            print(pattern)\n",
    "            return True\n",
    "    return False\n"
   ]
  },
  {
   "cell_type": "code",
   "execution_count": 55,
   "id": "9abb8431-d3d8-44a8-8627-ccb06829b352",
   "metadata": {},
   "outputs": [
    {
     "name": "stdout",
     "output_type": "stream",
     "text": [
      "AB\n",
      "True\n",
      "False\n"
     ]
    }
   ],
   "source": [
    "print(is_repeating(\"ABABAB\"))\n",
    "print(is_repeating(\"LESA\"))"
   ]
  },
  {
   "cell_type": "code",
   "execution_count": 22,
   "id": "598c2d38-7f3a-460c-95ed-3824c055195a",
   "metadata": {},
   "outputs": [],
   "source": [
    "def prefixes(s):\n",
    "    res=\"\"\n",
    "    prefix_list=[]\n",
    "    for char in s:\n",
    "        res=res+char  \n",
    "        prefix_list.append(res)\n",
    "    return prefix_list\n",
    "        "
   ]
  },
  {
   "cell_type": "code",
   "execution_count": 24,
   "id": "fe3a91fd-f3dc-481f-8c4b-ac7fbf38ae2d",
   "metadata": {},
   "outputs": [
    {
     "data": {
      "text/plain": [
       "['A', 'AB', 'ABA', 'ABAB']"
      ]
     },
     "execution_count": 24,
     "metadata": {},
     "output_type": "execute_result"
    }
   ],
   "source": [
    "prefixes(\"ABAB\")"
   ]
  },
  {
   "cell_type": "code",
   "execution_count": 37,
   "id": "97c6e348-3f1e-4db6-8fc7-ea69316407cc",
   "metadata": {},
   "outputs": [],
   "source": [
    "def prefixes(s):\n",
    "    prefix_list=[]\n",
    "    for i in range(1,len(s)+1): \n",
    "        prefix_list.append(s[:i])\n",
    "    return prefix_list"
   ]
  },
  {
   "cell_type": "code",
   "execution_count": 39,
   "id": "0034f4a3-41f0-444b-83c8-c8d89956d500",
   "metadata": {},
   "outputs": [
    {
     "data": {
      "text/plain": [
       "['A', 'AB', 'ABA', 'ABAB']"
      ]
     },
     "execution_count": 39,
     "metadata": {},
     "output_type": "execute_result"
    }
   ],
   "source": [
    "prefixes(\"ABAB\")"
   ]
  },
  {
   "cell_type": "code",
   "execution_count": 43,
   "id": "fe837d81-465a-4d94-aa1d-b3d49677b914",
   "metadata": {},
   "outputs": [
    {
     "name": "stdout",
     "output_type": "stream",
     "text": [
      "b\n",
      "a\n",
      "a\n"
     ]
    }
   ],
   "source": [
    "s=\"abcd\"\n",
    "print(s[1])\n",
    "print(s[0:1])\n",
    "print(s[:1])"
   ]
  },
  {
   "cell_type": "code",
   "execution_count": 51,
   "id": "620d9fcb-a94f-4911-a3b7-7f4447f18f95",
   "metadata": {},
   "outputs": [
    {
     "name": "stdout",
     "output_type": "stream",
     "text": [
      "['A', 'AB', 'ABC']\n"
     ]
    }
   ],
   "source": [
    "\"\"\"str1 = \"ABCABC\"\n",
    "str2 = \"ABC\"\n",
    "Common prefixes: [\"A\", \"AB\", \"ABC\"] \"\"\"\n",
    "def common_prefix(str1,str2):\n",
    "    common_prefix=[]\n",
    "    min_len=min(len(str1),len(str2))\n",
    "    for i in range(1,min_len+1):\n",
    "        prefix1=str1[:i]\n",
    "        prefix2=str2[:i]\n",
    "        if prefix1==prefix2:\n",
    "            common_prefix.append(prefix1)\n",
    "        else:\n",
    "            break  # Stop if characters don't match anymore \n",
    "    return common_prefix\n",
    "print(common_prefix(\"ABCABC\",\"ABC\")    )"
   ]
  },
  {
   "cell_type": "code",
   "execution_count": 63,
   "id": "debba3e3-d1f2-45e8-8064-89f7c611119e",
   "metadata": {},
   "outputs": [],
   "source": [
    "#Write a function to check if one string divides another as per the problem definition.\n",
    "def divides(s,t):\n",
    "    if len(s)%len(t)!=0:\n",
    "        return False\n",
    "    return t*(len(s)//len(t))==s"
   ]
  },
  {
   "cell_type": "code",
   "execution_count": 65,
   "id": "d5a72da8-9999-4580-b090-39cec16a2b78",
   "metadata": {},
   "outputs": [
    {
     "name": "stdout",
     "output_type": "stream",
     "text": [
      "True\n"
     ]
    }
   ],
   "source": [
    "print(divides(\"ABAB\",\"AB\"))"
   ]
  },
  {
   "cell_type": "code",
   "execution_count": 67,
   "id": "d3c8d06b-16a4-4b6b-9657-fe238f00f8ad",
   "metadata": {},
   "outputs": [],
   "source": [
    "#Understand how the GCD of two numbers works (Euclidean algorithm).\n",
    "\"\"\"gcd(48, 18)\n",
    "→ gcd(18, 48 % 18) = gcd(18, 12)\n",
    "→ gcd(12, 18 % 12) = gcd(12, 6)\n",
    "→ gcd(6, 12 % 6) = gcd(6, 0)\n",
    "→ Done! Answer = 6\n",
    "\"\"\"\n",
    "def gcd(a,b):\n",
    "    while b!=0:\n",
    "        a,b=b,a%b\n",
    "    return a"
   ]
  },
  {
   "cell_type": "code",
   "execution_count": 69,
   "id": "c5b1c76b-4ce0-4664-bc4b-cff5873889b0",
   "metadata": {},
   "outputs": [
    {
     "data": {
      "text/plain": [
       "6"
      ]
     },
     "execution_count": 69,
     "metadata": {},
     "output_type": "execute_result"
    }
   ],
   "source": [
    "gcd(48,18)"
   ]
  },
  {
   "cell_type": "code",
   "execution_count": 71,
   "id": "a6a70515-5c2d-4d7d-93b9-6e25e1d5bd67",
   "metadata": {},
   "outputs": [
    {
     "data": {
      "text/plain": [
       "6"
      ]
     },
     "execution_count": 71,
     "metadata": {},
     "output_type": "execute_result"
    }
   ],
   "source": [
    "gcd(18,48)"
   ]
  },
  {
   "cell_type": "code",
   "execution_count": 77,
   "id": "d7042bfa-1629-462a-a2a6-c2750e8c29fe",
   "metadata": {},
   "outputs": [],
   "source": [
    "#Compute gcd(len(str1), len(str2)) and extract that many characters from the start of either string.\n",
    "def gcd_string(str1,str2):\n",
    "    length_gcd=gcd(len(str1),len(str2))\n",
    "    return str1[:length_gcd]"
   ]
  },
  {
   "cell_type": "code",
   "execution_count": 79,
   "id": "d7afd3d9-4e41-4c2c-8b3d-724fc819733f",
   "metadata": {},
   "outputs": [
    {
     "name": "stdout",
     "output_type": "stream",
     "text": [
      "ABC\n"
     ]
    }
   ],
   "source": [
    "print(gcd_string(\"ABCABC\",\"ABC\")    )"
   ]
  },
  {
   "cell_type": "code",
   "execution_count": 87,
   "id": "0aa3c634-00fd-4ddd-a8d5-684dfd6937fc",
   "metadata": {},
   "outputs": [],
   "source": [
    "def gcd(a, b):\n",
    "    while b:\n",
    "        a, b = b, a % b\n",
    "    return a\n",
    "\n",
    "def divides(s, t):\n",
    "    if len(s) % len(t) != 0:\n",
    "        return False\n",
    "    return t * (len(s) // len(t)) == s\n",
    "\n",
    "def gcd_of_strings(str1, str2):\n",
    "    length_gcd = gcd(len(str1), len(str2))\n",
    "    candidate = str1[:length_gcd]\n",
    "    \n",
    "    # Check if candidate divides both strings\n",
    "    if divides(str1, candidate) and divides(str2, candidate):\n",
    "        return candidate\n",
    "    return \"\"\n"
   ]
  },
  {
   "cell_type": "code",
   "execution_count": 83,
   "id": "2f468543-aac7-45b8-988b-2790c404a161",
   "metadata": {},
   "outputs": [
    {
     "name": "stdout",
     "output_type": "stream",
     "text": [
      "ABC\n"
     ]
    }
   ],
   "source": [
    "print(gcd_string(\"ABCABC\",\"ABC\")    )"
   ]
  },
  {
   "cell_type": "code",
   "execution_count": 89,
   "id": "8b733d52-305d-430b-82b3-d02619e5d9f8",
   "metadata": {},
   "outputs": [
    {
     "name": "stdout",
     "output_type": "stream",
     "text": [
      "\n"
     ]
    }
   ],
   "source": [
    "print(gcd_of_strings(\"LEET\", \"CODE\"))   "
   ]
  },
  {
   "cell_type": "code",
   "execution_count": 91,
   "id": "cfeda4e8-c716-4f27-88b2-f443b6626cfc",
   "metadata": {},
   "outputs": [
    {
     "name": "stdout",
     "output_type": "stream",
     "text": [
      "AB\n"
     ]
    }
   ],
   "source": [
    "print(gcd_of_strings(\"ABABAB\", \"ABAB\"))"
   ]
  },
  {
   "cell_type": "code",
   "execution_count": null,
   "id": "411835e7-1f47-4bd6-9508-d724ac1e7aac",
   "metadata": {},
   "outputs": [],
   "source": []
  }
 ],
 "metadata": {
  "kernelspec": {
   "display_name": "Python 3 (ipykernel)",
   "language": "python",
   "name": "python3"
  },
  "language_info": {
   "codemirror_mode": {
    "name": "ipython",
    "version": 3
   },
   "file_extension": ".py",
   "mimetype": "text/x-python",
   "name": "python",
   "nbconvert_exporter": "python",
   "pygments_lexer": "ipython3",
   "version": "3.12.0"
  }
 },
 "nbformat": 4,
 "nbformat_minor": 5
}
