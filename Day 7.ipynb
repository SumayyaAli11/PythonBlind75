{
 "cells": [
  {
   "cell_type": "markdown",
   "id": "ba46fc41-59d4-41e1-b47a-133648d3bacf",
   "metadata": {},
   "source": [
    "##Day 7:\n",
    "\n",
    "Before solving today’s main problem, try these 7 mini-steps to build strong intuition:\n",
    "Access each character in a string using a loop\n",
    "→ Print each character in \"abc\" and \"pqr\" side by side.\n",
    "\n",
    "Zip two strings and print paired characters\n",
    "→ Use zip(word1, word2) to create pairs like ('a', 'p'), ('b', 'q').\n",
    "\n",
    "Concatenate characters from two strings alternately (same length)\n",
    "→ Try merging \"abc\" and \"xyz\" to get \"axbycz\".\n",
    "\n",
    "Handle strings of different lengths\n",
    "→ Try \"ab\" + \"pqrs\" → Stop zip at shorter, then add remaining.\n",
    "\n",
    "Find the longer string and slice the remaining part\n",
    "→ Use max(len1, len2) and word1[i:] or word2[i:].\n",
    "\n",
    "Use a loop with index instead of zip for more control\n",
    "→ Allows accessing extra characters beyond shortest string.\n",
    "\n",
    "Practice joining list of characters into a string\n",
    "→ Collect letters in a list → use ''.join(output_list) for result."
   ]
  },
  {
   "cell_type": "code",
   "execution_count": 1,
   "id": "189e2f4d-0103-4f52-a2c2-5f64e19e3781",
   "metadata": {},
   "outputs": [],
   "source": [
    "def print_strings(str1,str2):\n",
    "    for i in range(len(str1)):\n",
    "        print(str1[i],str2[i])"
   ]
  },
  {
   "cell_type": "code",
   "execution_count": 6,
   "id": "0d9ca2ab-2ecf-4942-8313-5f2bf17de2ac",
   "metadata": {},
   "outputs": [
    {
     "name": "stdout",
     "output_type": "stream",
     "text": [
      "p a\n",
      "q b\n",
      "r c\n"
     ]
    }
   ],
   "source": [
    "print_strings(\"pqr\",\"abc\")"
   ]
  },
  {
   "cell_type": "code",
   "execution_count": 38,
   "id": "c43042d7-e5f0-46bd-b4d2-79487c0dd0d5",
   "metadata": {},
   "outputs": [
    {
     "name": "stdout",
     "output_type": "stream",
     "text": [
      "a + p = ap\n",
      "b + q = bq\n",
      "c + r = cr\n"
     ]
    }
   ],
   "source": [
    "word1 = \"abc\"\n",
    "word2 = \"pqr\"\n",
    "\n",
    "for ch1, ch2 in zip(word1, word2):\n",
    "    print(f\"{ch1} + {ch2} = {ch1+ch2}\")\n"
   ]
  },
  {
   "cell_type": "code",
   "execution_count": 8,
   "id": "ca765cf0-97b4-4ad5-bd6e-4bbdfbb3915f",
   "metadata": {},
   "outputs": [],
   "source": [
    "def print_strings(str1,str2):\n",
    "    for i in range(len(str1)):\n",
    "        print(zip(str1[i],str2[i]))"
   ]
  },
  {
   "cell_type": "code",
   "execution_count": 10,
   "id": "e7bdf9ab-c2f7-4643-8978-3fdde06af3d4",
   "metadata": {},
   "outputs": [
    {
     "name": "stdout",
     "output_type": "stream",
     "text": [
      "<zip object at 0x000001A968DBBBC0>\n",
      "<zip object at 0x000001A968DBBBC0>\n",
      "<zip object at 0x000001A968DBBBC0>\n"
     ]
    }
   ],
   "source": [
    "print_strings(\"pqr\",\"abc\")"
   ]
  },
  {
   "cell_type": "code",
   "execution_count": 22,
   "id": "a73b182e-31ec-4468-95fc-f514bdc8df31",
   "metadata": {},
   "outputs": [
    {
     "name": "stdout",
     "output_type": "stream",
     "text": [
      "3\n",
      "axbycz\n"
     ]
    }
   ],
   "source": [
    "def concatenate_strings(str1,str2):\n",
    "    res=\"\"\n",
    "    n=len(str1)\n",
    "    print(n)\n",
    "    for i in range(n):\n",
    "        res=res+str1[i]+str2[i]\n",
    "    return res\n",
    "print(concatenate_strings(\"abc\",\"xyz\"))"
   ]
  },
  {
   "cell_type": "code",
   "execution_count": 36,
   "id": "b32caf8a-6044-47c9-ab9f-fdda13840c8f",
   "metadata": {},
   "outputs": [
    {
     "name": "stdout",
     "output_type": "stream",
     "text": [
      "2\n",
      "awbxyz\n"
     ]
    }
   ],
   "source": [
    "def concatenate_strings_diff_length(str1,str2):\n",
    "    res=\"\"\n",
    "    n=len(str1)\n",
    "    print(n)\n",
    "    for i in range(n):\n",
    "        res=res+str1[i]+str2[i]\n",
    "    \n",
    "    res=res+str2[i+1:]\n",
    "    return res\n",
    "print(concatenate_strings_diff_length(\"ab\",\"wxyz\"))"
   ]
  },
  {
   "cell_type": "code",
   "execution_count": 40,
   "id": "4c0e3f4a-cc11-4650-8eaa-a257623389c8",
   "metadata": {},
   "outputs": [],
   "source": [
    "class Solution:\n",
    "    def mergeAlternately(self, word1: str, word2: str) -> str:\n",
    "        min_len=min(len(word1),len(word2))\n",
    "        res=[]\n",
    "        for i in range(min_len):\n",
    "            res.append(word1[i])\n",
    "            res.append(word2[i])\n",
    "        if len(word1)>min_len:\n",
    "            res.append(word1[i+1:])\n",
    "        if len(word2)>min_len:\n",
    "            res.append(word2[i+1:])\n",
    "        return \"\".join(res)"
   ]
  },
  {
   "cell_type": "code",
   "execution_count": 44,
   "id": "a770f6c6-6a6c-41b9-8a2b-ee1982153157",
   "metadata": {},
   "outputs": [
    {
     "data": {
      "text/plain": [
       "'awbxyz'"
      ]
     },
     "execution_count": 44,
     "metadata": {},
     "output_type": "execute_result"
    }
   ],
   "source": [
    "solution=Solution()\n",
    "solution.mergeAlternately(\"ab\",\"wxyz\") "
   ]
  },
  {
   "cell_type": "code",
   "execution_count": null,
   "id": "5b92e405-1680-42c5-8fc3-a84b8f9a9f35",
   "metadata": {},
   "outputs": [],
   "source": []
  }
 ],
 "metadata": {
  "kernelspec": {
   "display_name": "Python 3 (ipykernel)",
   "language": "python",
   "name": "python3"
  },
  "language_info": {
   "codemirror_mode": {
    "name": "ipython",
    "version": 3
   },
   "file_extension": ".py",
   "mimetype": "text/x-python",
   "name": "python",
   "nbconvert_exporter": "python",
   "pygments_lexer": "ipython3",
   "version": "3.12.0"
  }
 },
 "nbformat": 4,
 "nbformat_minor": 5
}
