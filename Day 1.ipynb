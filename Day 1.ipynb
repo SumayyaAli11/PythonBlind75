{
 "cells": [
  {
   "cell_type": "code",
   "execution_count": 11,
   "id": "b3bab980-ce33-4d1e-aa55-e5d2cb9cd8e9",
   "metadata": {},
   "outputs": [
    {
     "name": "stdout",
     "output_type": "stream",
     "text": [
      "3 7\n",
      "7 3\n"
     ]
    }
   ],
   "source": [
    "arr=[2,3,7,5]\n",
    "target=10\n",
    "for i  in range(len(arr)-1):\n",
    "    for j in range(1,len(arr)):\n",
    "        if arr[i]+arr[j]==target:\n",
    "            print(arr[i],arr[j])\n",
    "            "
   ]
  },
  {
   "cell_type": "code",
   "execution_count": 36,
   "id": "f317ceae-704c-4d14-9b2e-a8b2f1545e26",
   "metadata": {},
   "outputs": [
    {
     "name": "stdout",
     "output_type": "stream",
     "text": [
      "Pair:3,7\n",
      "Pair:5,5\n"
     ]
    }
   ],
   "source": [
    "# print all pairs in an array that sum to a target using bruteforce\n",
    "def sum_elem(arr,target):\n",
    "    \n",
    "    for i  in range(len(arr)-1):\n",
    "        for j in range(i+1,len(arr)):\n",
    "            if arr[i]+arr[j]==target:\n",
    "                print(f\"Pair:{arr[i]},{arr[j]}\")\n",
    "arr=[2,3,7,5,5]\n",
    "target=10\n",
    "sum_elem(arr,target)\n",
    "    "
   ]
  },
  {
   "cell_type": "code",
   "execution_count": 42,
   "id": "b7f4f7e7-bb82-413d-904d-e646d13beb5c",
   "metadata": {},
   "outputs": [
    {
     "data": {
      "text/plain": [
       "False"
      ]
     },
     "execution_count": 42,
     "metadata": {},
     "output_type": "execute_result"
    }
   ],
   "source": [
    "#return true if any pair exists in the array that sums to a target\n",
    "def sum_elem(arr,target):\n",
    "    \n",
    "    for i  in range(len(arr)-1):\n",
    "        for j in range(i+1,len(arr)):\n",
    "            if arr[i]+arr[j]==target:\n",
    "                return True\n",
    "            return False\n",
    "arr=[2,3,7,5,5]\n",
    "target=1\n",
    "sum_elem(arr,target)\n",
    "    "
   ]
  },
  {
   "cell_type": "code",
   "execution_count": 46,
   "id": "62d67ba6-81cf-436d-ac7c-7caacac64e05",
   "metadata": {},
   "outputs": [
    {
     "name": "stdout",
     "output_type": "stream",
     "text": [
      "{2: 0, 3: 1, 7: 2, 5: 4}\n"
     ]
    }
   ],
   "source": [
    "#map each value with corresponding index\n",
    "dict1={}\n",
    "arr=[2,3,7,5,5]\n",
    "for i,n in enumerate(arr):\n",
    "    dict1[n]=i\n",
    "print(dict1)"
   ]
  },
  {
   "cell_type": "code",
   "execution_count": 52,
   "id": "2ea1ffe0-2e37-4e80-aef7-89b38a355ed2",
   "metadata": {},
   "outputs": [
    {
     "name": "stdout",
     "output_type": "stream",
     "text": [
      "{2: 1, 3: 1, 7: 1, 5: 2}\n"
     ]
    }
   ],
   "source": [
    "#count the frequency of each element in an array\n",
    "count_arr={}\n",
    "arr=[2,3,7,5,5]\n",
    "for i in range(len(arr)):\n",
    "    count_arr[arr[i]]=1+count_arr.get(arr[i],0)\n",
    "print(count_arr)"
   ]
  },
  {
   "cell_type": "code",
   "execution_count": 58,
   "id": "5570cb4e-10bd-4f95-aaad-d828787353d3",
   "metadata": {},
   "outputs": [
    {
     "name": "stdout",
     "output_type": "stream",
     "text": [
      "{2, 3, 5, 7}\n"
     ]
    }
   ],
   "source": [
    "arr=[2,3,7,5,5]\n",
    "print(set(arr))"
   ]
  },
  {
   "cell_type": "code",
   "execution_count": 60,
   "id": "057b1a65-71c7-4a8a-af2f-aa4cde2adea2",
   "metadata": {},
   "outputs": [
    {
     "data": {
      "text/plain": [
       "True"
      ]
     },
     "execution_count": 60,
     "metadata": {},
     "output_type": "execute_result"
    }
   ],
   "source": [
    "def contain_duplicates(arr):\n",
    "    if len(arr)!=len(set(arr)):\n",
    "        return True\n",
    "    return False\n",
    "arr=[2,3,7,5,5]\n",
    "contain_duplicates(arr)\n",
    "    "
   ]
  },
  {
   "cell_type": "code",
   "execution_count": 66,
   "id": "b9fc2b60-5ca3-4e03-90e2-915edd27f198",
   "metadata": {},
   "outputs": [
    {
     "data": {
      "text/plain": [
       "False"
      ]
     },
     "execution_count": 66,
     "metadata": {},
     "output_type": "execute_result"
    }
   ],
   "source": [
    "#check if array contains duplicates using set\n",
    "def contain_duplicates(arr):\n",
    "     return len(arr)!=len(set(arr))\n",
    "        \n",
    "arr=[2,3,7,5]\n",
    "contain_duplicates(arr)\n",
    "    "
   ]
  },
  {
   "cell_type": "code",
   "execution_count": 74,
   "id": "bbb9401a-c769-42c9-b263-0579c9b8ba32",
   "metadata": {},
   "outputs": [
    {
     "data": {
      "text/plain": [
       "{(1, 3), (2, 4), (3, 5)}"
      ]
     },
     "execution_count": 74,
     "metadata": {},
     "output_type": "execute_result"
    }
   ],
   "source": [
    "#6. Find all unique pairs with a given difference (k-diff pairs problem).\n",
    "def unique_pairs_k_diff(arr,k):\n",
    "    arr=set(arr)\n",
    "    pairs=set()\n",
    "    for num in arr:\n",
    "        if num+k  in arr:\n",
    "            pairs.add((min(i,i+k),max(i,i+k)))\n",
    "        if (num-k) in arr:\n",
    "            pairs.add((min(num, num - k), max(num, num - k)))\n",
    "    return pairs\n",
    "arr=[2,3,4,1,5,5]\n",
    "k=2\n",
    "unique_pairs_k_diff(arr,k)\n"
   ]
  },
  {
   "cell_type": "code",
   "execution_count": 82,
   "id": "89bd3a75-a985-406c-bf21-97e41da9cab7",
   "metadata": {},
   "outputs": [
    {
     "data": {
      "text/plain": [
       "(0, 2)"
      ]
     },
     "execution_count": 82,
     "metadata": {},
     "output_type": "execute_result"
    }
   ],
   "source": [
    "#7. Given a target and a value-index map, find two values whose sum equals the target.\n",
    "\n",
    "def sum_target(index_map,target):\n",
    "    for num in index_map:\n",
    "        diff=target-num\n",
    "        if diff in index_map:\n",
    "            return index_map[num],index_map[diff]\n",
    "target=9\n",
    "index_map={2: 0, 3: 1, 7: 2, 5: 4}\n",
    "sum_target(index_map,target)\n"
   ]
  },
  {
   "cell_type": "code",
   "execution_count": null,
   "id": "810023bf-e71c-4140-bbbd-66e1f068897a",
   "metadata": {},
   "outputs": [],
   "source": []
  }
 ],
 "metadata": {
  "kernelspec": {
   "display_name": "Python 3 (ipykernel)",
   "language": "python",
   "name": "python3"
  },
  "language_info": {
   "codemirror_mode": {
    "name": "ipython",
    "version": 3
   },
   "file_extension": ".py",
   "mimetype": "text/x-python",
   "name": "python",
   "nbconvert_exporter": "python",
   "pygments_lexer": "ipython3",
   "version": "3.12.0"
  }
 },
 "nbformat": 4,
 "nbformat_minor": 5
}
