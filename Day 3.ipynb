{
 "cells": [
  {
   "cell_type": "code",
   "execution_count": 1,
   "id": "7e90002a-8c1b-487a-91e9-520fe0f42ba9",
   "metadata": {},
   "outputs": [
    {
     "name": "stdout",
     "output_type": "stream",
     "text": [
      "[1, 2, 3, 1]\n"
     ]
    }
   ],
   "source": [
    "def print_arr(arr):\n",
    "    print(arr)\n",
    "arr=[1,2,3,1]\n",
    "print_arr(arr)"
   ]
  },
  {
   "cell_type": "code",
   "execution_count": 3,
   "id": "e7cb3669-a50e-4f6d-84c0-fd758770d82b",
   "metadata": {},
   "outputs": [
    {
     "name": "stdout",
     "output_type": "stream",
     "text": [
      "[1, 1, 2, 3]\n"
     ]
    }
   ],
   "source": [
    "def print_arr(arr):\n",
    "    arr.sort()\n",
    "    print(arr)\n",
    "arr=[1,2,3,1]\n",
    "print_arr(arr)"
   ]
  },
  {
   "cell_type": "code",
   "execution_count": 7,
   "id": "753dd080-1cfb-4445-a816-dc8725fdd13e",
   "metadata": {},
   "outputs": [
    {
     "name": "stdout",
     "output_type": "stream",
     "text": [
      "{1: 3, 2: 1, 3: 1}\n"
     ]
    }
   ],
   "source": [
    "arr=[1,2,3,1,1]\n",
    "dict1={}\n",
    "for i in range(len(arr)):\n",
    "    dict1[arr[i]]=1+dict1.get(arr[i],0)\n",
    "print(dict1)"
   ]
  },
  {
   "cell_type": "code",
   "execution_count": 13,
   "id": "ead9b9c5-8545-4b1f-9f20-1256edfbc827",
   "metadata": {},
   "outputs": [
    {
     "name": "stdout",
     "output_type": "stream",
     "text": [
      "[3, 2, 1, 1, 1]\n"
     ]
    }
   ],
   "source": [
    "for i in range(len(arr)):\n",
    "    for j in range(len(arr)-i-1):\n",
    "        if arr[j]<arr[j+1]:\n",
    "            arr[j],arr[j+1]=arr[j+1],arr[j]\n",
    "print(arr)\n",
    "    "
   ]
  },
  {
   "cell_type": "code",
   "execution_count": 25,
   "id": "8bd2ead6-a72f-4513-8ecb-af4354d57272",
   "metadata": {},
   "outputs": [
    {
     "name": "stdout",
     "output_type": "stream",
     "text": [
      "1 occurs 2 times\n",
      "2 occurs 3 times\n",
      "3 occurs 1 times\n",
      "4 occurs 1 times\n"
     ]
    }
   ],
   "source": [
    "arr = [1, 2, 2, 3, 1, 4, 2]\n",
    "visited = []\n",
    "\n",
    "for i in range(len(arr)):\n",
    "    if arr[i] not in visited:\n",
    "        count = 0\n",
    "        for j in range(len(arr)):\n",
    "            if arr[i] == arr[j]:\n",
    "                count += 1\n",
    "        print(f\"{arr[i]} occurs {count} times\")\n",
    "        visited.append(arr[i])\n"
   ]
  },
  {
   "cell_type": "code",
   "execution_count": 31,
   "id": "30b3d061-d7e2-46df-ad5b-52890b5d4b5c",
   "metadata": {},
   "outputs": [
    {
     "name": "stdout",
     "output_type": "stream",
     "text": [
      "1 occurs 2 times\n",
      "2 occurs 3 times\n",
      "3 occurs 1 times\n",
      "4 occurs 1 times\n"
     ]
    }
   ],
   "source": [
    "arr = [1, 2, 2, 3, 1, 4, 2]\n",
    "visited = []\n",
    "\n",
    "for i in range(len(arr)):\n",
    "    if arr[i] not in visited:\n",
    "        count = 0\n",
    "        for j in range(len(arr)):\n",
    "            if arr[i] == arr[j]:\n",
    "                count += 1\n",
    "        print(f\"{arr[i]} occurs {count} times\")\n",
    "        visited.append(arr[i])"
   ]
  },
  {
   "cell_type": "code",
   "execution_count": 33,
   "id": "27924a5a-521e-43ac-8f43-d8a8bd5a959b",
   "metadata": {},
   "outputs": [
    {
     "data": {
      "text/plain": [
       "False"
      ]
     },
     "execution_count": 33,
     "metadata": {},
     "output_type": "execute_result"
    }
   ],
   "source": [
    "#Check if all elements in an array are unique using brute-force (nested loop comparison).\n",
    "def all_unique(arr):\n",
    "    for i in range(len(arr)):\n",
    "        for j in range(i+1,len(arr)):\n",
    "            if arr[i]==arr[j]:\n",
    "                return False\n",
    "    return True\n",
    "all_unique(arr)\n",
    "    "
   ]
  },
  {
   "cell_type": "code",
   "execution_count": 35,
   "id": "fde47960-84c2-452f-a874-cfead011a7c6",
   "metadata": {},
   "outputs": [
    {
     "name": "stdout",
     "output_type": "stream",
     "text": [
      "True\n",
      "False\n"
     ]
    }
   ],
   "source": [
    "#Learn set operations: Add elements to a set and check for existence.\n",
    "myset=set()\n",
    "myset.add(1)\n",
    "myset.add(10)\n",
    "\n",
    "print(1 in myset)\n",
    "print(2 in myset)"
   ]
  },
  {
   "cell_type": "code",
   "execution_count": 41,
   "id": "f1ce7e25-ea92-4e57-b657-36346250a029",
   "metadata": {},
   "outputs": [
    {
     "data": {
      "text/plain": [
       "False"
      ]
     },
     "execution_count": 41,
     "metadata": {},
     "output_type": "execute_result"
    }
   ],
   "source": [
    "#Find duplicates in an array using a set for O(n) time complexity.\n",
    "def duplicates(arr):\n",
    "    myset=set()\n",
    "    for i in arr:\n",
    "        if i in myset:\n",
    "            return True\n",
    "        else:\n",
    "            myset.add(i)\n",
    "    return False\n",
    "duplicates([1,2,3])"
   ]
  },
  {
   "cell_type": "code",
   "execution_count": null,
   "id": "44755124-e134-4f7a-88c1-72cd00774c82",
   "metadata": {},
   "outputs": [],
   "source": []
  }
 ],
 "metadata": {
  "kernelspec": {
   "display_name": "Python 3 (ipykernel)",
   "language": "python",
   "name": "python3"
  },
  "language_info": {
   "codemirror_mode": {
    "name": "ipython",
    "version": 3
   },
   "file_extension": ".py",
   "mimetype": "text/x-python",
   "name": "python",
   "nbconvert_exporter": "python",
   "pygments_lexer": "ipython3",
   "version": "3.12.0"
  }
 },
 "nbformat": 4,
 "nbformat_minor": 5
}
