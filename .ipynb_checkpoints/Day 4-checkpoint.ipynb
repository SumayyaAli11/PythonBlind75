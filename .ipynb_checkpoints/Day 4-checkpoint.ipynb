{
 "cells": [
  {
   "cell_type": "code",
   "execution_count": 15,
   "id": "ea133515-1772-4dc7-b330-36ba3044688b",
   "metadata": {},
   "outputs": [
    {
     "name": "stdout",
     "output_type": "stream",
     "text": [
      "40\n"
     ]
    }
   ],
   "source": [
    "arr=[1,2,4,5]\n",
    "product=1\n",
    "for num in arr:\n",
    "    product=product*num\n",
    "print(product)"
   ]
  },
  {
   "cell_type": "code",
   "execution_count": 37,
   "id": "d11259cc-b881-412d-b221-d692aebb5f54",
   "metadata": {},
   "outputs": [
    {
     "data": {
      "text/plain": [
       "[1, 1, 2, 6]"
      ]
     },
     "execution_count": 37,
     "metadata": {},
     "output_type": "execute_result"
    }
   ],
   "source": [
    "\"\"\"nums = [2, 3, 4, 5]\n",
    "We initialize:\n",
    "\n",
    "prefix = [1, 1, 1, 1]\n",
    "Then loop from i = 1 to n - 1:\n",
    "\n",
    "Step-by-step:\n",
    "i = 1\n",
    "\n",
    "\n",
    "prefix[1] = prefix[0] * nums[0] = 1 * 2 = 2\n",
    "Now: prefix = [1, 2, 1, 1]\n",
    "\n",
    "i = 2\n",
    "\n",
    "\n",
    "prefix[2] = prefix[1] * nums[1] = 2 * 3 = 6\n",
    "Now: prefix = [1, 2, 6, 1]\n",
    "\n",
    "i = 3\n",
    "\n",
    "\n",
    "prefix[3] = prefix[2] * nums[2] = 6 * 4 = 24\n",
    "Now: prefix = [1, 2, 6, 24]\n",
    "\n",
    "\"\"\"\n",
    "def prefix_products(nums):\n",
    "    n = len(nums)\n",
    "    prefix = [1] * n\n",
    "    for i in range(1, n):\n",
    "        prefix[i] = prefix[i - 1] * nums[i - 1]\n",
    "    return prefix\n",
    "nums=[1,2,3,4]\n",
    "prefix_products(nums)"
   ]
  },
  {
   "cell_type": "code",
   "execution_count": 39,
   "id": "c0dc34ef-20f0-4e10-968f-fd19e1954905",
   "metadata": {},
   "outputs": [
    {
     "name": "stdout",
     "output_type": "stream",
     "text": [
      "[1, 1, 2, 6]\n"
     ]
    }
   ],
   "source": [
    "\"\"\"We want to find the prefix product array, where each element at index i is the product of all elements to the left of i.\n",
    "\n",
    "Step-by-step:\n",
    "Index 0: no elements to the left → 1\n",
    "\n",
    "Index 1: product of [2] → 2\n",
    "\n",
    "Index 2: product of [2, 3] → 6\n",
    "\n",
    "Index 3: product of [2, 3, 4] → 24\"\"\"\n",
    "n=len(nums)\n",
    "product_list=[1]*n\n",
    "for i in range(1,n):\n",
    "    product_list[i]=product_list[i-1]*nums[i-1]\n",
    "print(product_list)\n",
    "    "
   ]
  },
  {
   "cell_type": "code",
   "execution_count": 41,
   "id": "f477ca19-7f13-41ac-ac6e-58ba387aab3e",
   "metadata": {},
   "outputs": [
    {
     "name": "stdout",
     "output_type": "stream",
     "text": [
      "[24, 12, 4, 1]\n"
     ]
    }
   ],
   "source": [
    "n=len(nums)\n",
    "suffix_list=[1]*n\n",
    "for i in range(n-2,-1,-1):\n",
    "    suffix_list[i]=suffix_list[i+1]*nums[i+1]\n",
    "print(suffix_list)"
   ]
  },
  {
   "cell_type": "code",
   "execution_count": 43,
   "id": "68582d61-6f59-4df6-b189-c844aef6d0f8",
   "metadata": {},
   "outputs": [
    {
     "name": "stdout",
     "output_type": "stream",
     "text": [
      "[24, 12, 8, 6]\n"
     ]
    }
   ],
   "source": [
    "product_except_self=[1]*n\n",
    "for i in range(len(nums)):\n",
    "    product_except_self[i]=suffix_list[i]*product_list[i]\n",
    "print(product_except_self)"
   ]
  },
  {
   "cell_type": "code",
   "execution_count": 55,
   "id": "dc975616-b33c-48ab-ac36-c0bb869ced62",
   "metadata": {},
   "outputs": [
    {
     "name": "stdout",
     "output_type": "stream",
     "text": [
      "24\n",
      "[24, 12, 8, 6]\n"
     ]
    }
   ],
   "source": [
    "#Solve \"Product of Array Except Self\" using division and handle zero edge cases.\n",
    "\"\"\"nums = [1, 2, 3, 4]\n",
    "total_product = 24\n",
    "result = [24//1, 24//2, 24//3, 24//4] → [24, 12, 8, 6]\"\"\"\n",
    "nums=[1,2,3,4]\n",
    "total_product=1\n",
    "result=[]\n",
    "for num in nums:\n",
    "    total_product=total_product*num\n",
    "for num in nums:\n",
    "    result.append(total_product//num)\n",
    "print(total_product)\n",
    "print(result)"
   ]
  },
  {
   "cell_type": "code",
   "execution_count": 51,
   "id": "560897ee-a61e-4857-9fa8-47b01b1ce03e",
   "metadata": {},
   "outputs": [],
   "source": [
    "def product_except_self(nums):\n",
    "    total_product = 1\n",
    "    zero_count = nums.count(0)\n",
    "    \n",
    "    if zero_count > 1:\n",
    "        return [0] * len(nums)\n",
    "    \n",
    "    for num in nums:\n",
    "        if num != 0:\n",
    "            total_product *= num\n",
    "\n",
    "    result = []\n",
    "    for num in nums:\n",
    "        if zero_count == 0:\n",
    "            result.append(total_product // num)\n",
    "        elif num == 0:\n",
    "            result.append(total_product)\n",
    "        else:\n",
    "            result.append(0)\n",
    "    \n",
    "    return result\n"
   ]
  },
  {
   "cell_type": "code",
   "execution_count": 53,
   "id": "606e9429-1bc7-4a85-bda7-824a8d67e3c8",
   "metadata": {},
   "outputs": [
    {
     "data": {
      "text/plain": [
       "[24, 12, 8, 6]"
      ]
     },
     "execution_count": 53,
     "metadata": {},
     "output_type": "execute_result"
    }
   ],
   "source": [
    "product_except_self(nums)"
   ]
  },
  {
   "cell_type": "code",
   "execution_count": 63,
   "id": "6fe977ad-2e57-4255-9997-e1afb90857f4",
   "metadata": {},
   "outputs": [
    {
     "name": "stdout",
     "output_type": "stream",
     "text": [
      "[2, 6, 12, 20]\n"
     ]
    }
   ],
   "source": [
    "#Implement prefix sum array (get comfortable with cumulative array patterns).\n",
    "nums=[2,4,6,8]\n",
    "n=len(nums)\n",
    "\n",
    "prefix_sum_array=[0]*n\n",
    "prefix_sum_array[0]=nums[0]\n",
    "for i in range(1,n):\n",
    "    prefix_sum_array[i]=prefix_sum_array[i-1]+nums[i]\n",
    "print(prefix_sum_array)"
   ]
  },
  {
   "cell_type": "code",
   "execution_count": 65,
   "id": "bd75bcb4-5b07-43c6-86ca-6279cc7bd9af",
   "metadata": {},
   "outputs": [
    {
     "name": "stdout",
     "output_type": "stream",
     "text": [
      "[2, 6, 12, 20]\n"
     ]
    }
   ],
   "source": [
    "\"\"\"Solve without using extra space (O(1) space excluding output array).\n",
    "Here's how to compute the prefix sum array in-place, i.e., modifying the input array itself to save space:\"\"\"\n",
    "for i in range(1,n):\n",
    "    nums[i]=nums[i-1]+nums[i]\n",
    "print(nums)"
   ]
  },
  {
   "cell_type": "code",
   "execution_count": null,
   "id": "d7f7c75a-aa0f-420e-8071-9ab136f60039",
   "metadata": {},
   "outputs": [],
   "source": []
  }
 ],
 "metadata": {
  "kernelspec": {
   "display_name": "Python 3 (ipykernel)",
   "language": "python",
   "name": "python3"
  },
  "language_info": {
   "codemirror_mode": {
    "name": "ipython",
    "version": 3
   },
   "file_extension": ".py",
   "mimetype": "text/x-python",
   "name": "python",
   "nbconvert_exporter": "python",
   "pygments_lexer": "ipython3",
   "version": "3.12.0"
  }
 },
 "nbformat": 4,
 "nbformat_minor": 5
}
